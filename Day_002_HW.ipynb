{
 "cells": [
  {
   "cell_type": "markdown",
   "metadata": {},
   "source": [
    "# [作業目標]\n",
    "了解機器學習適合應用的領域與範疇。\n",
    "\n",
    "# [作業重點]\n",
    "透過瞭解機器學習的運作方式，找出非常適用機器學習應用的領域及其原因\n",
    "\n",
    "# 作業\n",
    "請找出一個你認為機器學習可以發光發熱的領域並闡述原因?"
   ]
  },
  {
   "cell_type": "markdown",
   "metadata": {},
   "source": [
    "## Ans: Music and News field\n",
    "\n",
    "Example: Google Music/ Shazam(mobile app)\n",
    "\n",
    "It is a sort of concept of \"targeted adveritsing\". In fact, when users begin to use Youtube, Youtube's backend will start to collect some date and analyze them instantly such as content, title, topic, upload time, etc. And then start to provide customerized recommendation list for musics/ videos to cater to the interests of users. \n",
    "\n",
    "A great ML algorithm will help Youtube to classify the dataset into different categroies of features and decrease the average cost on the customer. In a rapidly evlving world, using Data-driven insights to understand the customers' needs is inevitable tatics, since there isn't one-size-fits-all advertising and data-driven insights will facilitate the companies stay on the right track or easily make a new plan.   \n",
    "\n",
    "There is a big market about the \"targeted advertising\", every big companies is paying all their effort in creating an great algorithm to predict customers' preference."
   ]
  },
  {
   "cell_type": "markdown",
   "metadata": {},
   "source": [
    "Reference:\n",
    "\n",
    "[How Youtube is recommending your next video](https://medium.com/vantageai/how-youtube-is-recommending-your-next-video-7e5f1a6bd6d9)\n",
    "\n",
    "[Why data Analytics can help drive sales for your business](https://www.entrepreneur.com/article/310001)"
   ]
  },
  {
   "cell_type": "code",
   "execution_count": null,
   "metadata": {},
   "outputs": [],
   "source": []
  }
 ],
 "metadata": {
  "kernelspec": {
   "display_name": "Python 3",
   "language": "python",
   "name": "python3"
  },
  "language_info": {
   "codemirror_mode": {
    "name": "ipython",
    "version": 3
   },
   "file_extension": ".py",
   "mimetype": "text/x-python",
   "name": "python",
   "nbconvert_exporter": "python",
   "pygments_lexer": "ipython3",
   "version": "3.7.6"
  }
 },
 "nbformat": 4,
 "nbformat_minor": 4
}
