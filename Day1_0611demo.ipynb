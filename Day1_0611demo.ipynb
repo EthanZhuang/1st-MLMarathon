{
 "cells": [
  {
   "cell_type": "code",
   "execution_count": 42,
   "metadata": {},
   "outputs": [],
   "source": [
    "import numpy as np\n",
    "import matplotlib.pyplot as plt"
   ]
  },
  {
   "cell_type": "code",
   "execution_count": 43,
   "metadata": {},
   "outputs": [],
   "source": [
    "def mean_absolute_error(y, yp):\n",
    "    '''\n",
    "    y: 實際值\n",
    "    yp: 預測值 \n",
    "    '''\n",
    "    mae = sum(abs(y - yp)) / len(y)\n",
    "    return mae\n",
    "\n",
    "def mean_squared_error(y, yp):\n",
    "    mse = sum((y - yp)**2) / len(y)\n",
    "    return mse"
   ]
  },
  {
   "cell_type": "code",
   "execution_count": 44,
   "metadata": {},
   "outputs": [
    {
     "name": "stdout",
     "output_type": "stream",
     "text": [
      "101\n",
      "[  0.   1.   2.   3.   4.   5.   6.   7.   8.   9.  10.  11.  12.  13.\n",
      "  14.  15.  16.  17.  18.  19.  20.  21.  22.  23.  24.  25.  26.  27.\n",
      "  28.  29.  30.  31.  32.  33.  34.  35.  36.  37.  38.  39.  40.  41.\n",
      "  42.  43.  44.  45.  46.  47.  48.  49.  50.  51.  52.  53.  54.  55.\n",
      "  56.  57.  58.  59.  60.  61.  62.  63.  64.  65.  66.  67.  68.  69.\n",
      "  70.  71.  72.  73.  74.  75.  76.  77.  78.  79.  80.  81.  82.  83.\n",
      "  84.  85.  86.  87.  88.  89.  90.  91.  92.  93.  94.  95.  96.  97.\n",
      "  98.  99. 100.]\n",
      "[0.72118737 0.00110723 0.39805486 0.1656328  0.13989128 0.71641191\n",
      " 0.35826201 0.5449765  0.72498261 0.79400187 0.14581848 0.23584629\n",
      " 0.9676245  0.19273779 0.14764203 0.35943474 0.14402927 0.62444827\n",
      " 0.49344575 0.97371855 0.12110466 0.35836849 0.00647141 0.07175282\n",
      " 0.84332454 0.8627867  0.34309445 0.81474457 0.64193922 0.46729958\n",
      " 0.1790181  0.76496728 0.01664476 0.86970138 0.48269353 0.0754128\n",
      " 0.87232614 0.56813274 0.62584537 0.52923624 0.86077352 0.12194502\n",
      " 0.30880573 0.72954066 0.55340645 0.91565549 0.05143605 0.26799399\n",
      " 0.37743062 0.8503002  0.23482524 0.30864362 0.55978949 0.28921448\n",
      " 0.54198188 0.79712759 0.59765572 0.10631967 0.90775515 0.36030198\n",
      " 0.61803707 0.80347228 0.28371037 0.59829833 0.34305191 0.84518879\n",
      " 0.38992197 0.35103195 0.09893843 0.2386019  0.8270423  0.68333888\n",
      " 0.51896055 0.88311913 0.64809705 0.72648829 0.96709999 0.731729\n",
      " 0.85263649 0.7278196  0.44569525 0.75963955 0.20874496 0.85220345\n",
      " 0.57388964 0.22116396 0.83290116 0.24336534 0.52932687 0.13443418\n",
      " 0.26465218 0.74893256 0.19617696 0.95092932 0.25524115 0.56340571\n",
      " 0.65599364 0.96665546 0.74584048 0.75977755 0.26338674]\n"
     ]
    }
   ],
   "source": [
    "w = 3\n",
    "b = 0.5\n",
    "x_lin = np.linspace(0, 100, 101)\n",
    "y = (x_lin + np.random.randn(101) * 5) * w + b\n",
    "print(len(y))\n",
    "print(x_lin)\n",
    "print(np.random.rand(101))"
   ]
  },
  {
   "cell_type": "code",
   "execution_count": 45,
   "metadata": {},
   "outputs": [
    {
     "data": {
      "image/png": "[encoded data removed]",
      "text/plain": [
       "<Figure size 432x288 with 1 Axes>"
      ]
     },
     "metadata": {
      "needs_background": "light"
     },
     "output_type": "display_data"
    }
   ],
   "source": [
    "plt.plot(x_lin, y, 'b.', label = 'data points')\n",
    "plt.title(\"Assume we have data points\")\n",
    "plt.legend(loc = 2)\n",
    "plt.show()"
   ]
  },
  {
   "cell_type": "code",
   "execution_count": 46,
   "metadata": {},
   "outputs": [
    {
     "data": {
      "image/png": "[encoded data removed]",
      "text/plain": [
       "<Figure size 432x288 with 1 Axes>"
      ]
     },
     "metadata": {
      "needs_background": "light"
     },
     "output_type": "display_data"
    }
   ],
   "source": [
    "# 與範例相同, 不另外解說\n",
    "# Is the best solution for prediction, we call it linear regression \n",
    "y_hat = x_lin * w + b\n",
    "plt.plot(x_lin, y, 'b.', label = 'data')\n",
    "plt.plot(x_lin, y_hat, 'r-', label = 'prediction')\n",
    "plt.title(\"Assume we have data points (And the prediction)\")\n",
    "plt.legend(loc = 2)\n",
    "plt.show()"
   ]
  },
  {
   "cell_type": "code",
   "execution_count": 47,
   "metadata": {},
   "outputs": [
    {
     "name": "stdout",
     "output_type": "stream",
     "text": [
      "The MSE is 266.776\n",
      "The MAE is 12.633\n"
     ]
    }
   ],
   "source": [
    "# Ensure the fuction can work \n",
    "MSE = mean_squared_error(y, y_hat)\n",
    "MAE = mean_absolute_error(y, y_hat)\n",
    "\n",
    "print('The MSE is %.3f' % (MSE))\n",
    "print('The MAE is %.3f' % (MAE))"
   ]
  },
  {
   "cell_type": "markdown",
   "metadata": {},
   "source": [
    "# 作業二\n",
    "\n",
    "請上 Kaggle, 在 Competitions 或 Dataset 中找一組競賽或資料並寫下：\n",
    "\n",
    "你選的這組資料為何重要\n",
    "\n",
    "資料從何而來 (tips: 譬如提供者是誰、以什麼方式蒐集)\n",
    "\n",
    "蒐集而來的資料型態為何\n",
    "\n",
    "這組資料想解決的問題如何評估"
   ]
  },
  {
   "cell_type": "markdown",
   "metadata": {},
   "source": [
    "[Fake News](https://www.kaggle.com/clmentbisaillon/fake-and-real-news-dataset/data#)\n",
    "1. Nowadays, the problem of fake news are overwhelming. Fake news refers to misinformation, disinformation or mal-information which is spread through words of mouth and traditional media and more recently through digital forms of communication such as edited videos, memes, unverified advertisements and social media.\n",
    "2. CSV file. There are 4 columns in this file, A title, A text, A subject, A date. \n",
    "3. Text classification, Text cleaning, N-Gram Analysis and Machine learning tachniques. "
   ]
  },
  {
   "cell_type": "markdown",
   "metadata": {},
   "source": [
    "# 作業3\n",
    "想像你經營一個自由載客車隊，你希望能透過數據分析以提升業績，請你思考並描述你如何規劃整體的分析/解決方案：\n",
    "\n",
    "核心問題為何 (tips：如何定義 「提升業績 & 你的假設」)\n",
    "\n",
    "資料從何而來 (tips：哪些資料可能會對你想問的問題產生影響 & 資料如何蒐集)\n",
    "\n",
    "蒐集而來的資料型態為何\n",
    "\n",
    "你要回答的問題，其如何評估 (tips：你的假設如何驗證)"
   ]
  },
  {
   "cell_type": "markdown",
   "metadata": {},
   "source": [
    "## Q: What problems we will face?\n",
    "For company:\n",
    "Q: 如何在特定時間增加載客量?\n",
    "1. 就要知道哪些時間客人數量偏多，需要調研各時段的載客位置和數量\n",
    "2. 資料從顧客下訂單來看，或是從附近店家，交通來看\n",
    "3. 先從APP歷史紀錄來找，或者是派人在各大人潮擁擠處紀錄\n",
    "\n",
    "1. Safety issue/ How to pay/ Drivers Accountability/ Information  \n",
    "2. The capability of tranprotation/ the daily average routes that the drivers should take. \n",
    "3. CSV file with the amount of drivers, the amount of customers, the daily average routes, the place with the amount of customers, the file of time with the amount of customers \n"
   ]
  }
 ],
 "metadata": {
  "kernelspec": {
   "display_name": "Python 3",
   "language": "python",
   "name": "python3"
  },
  "language_info": {
   "codemirror_mode": {
    "name": "ipython",
    "version": 3
   },
   "file_extension": ".py",
   "mimetype": "text/x-python",
   "name": "python",
   "nbconvert_exporter": "python",
   "pygments_lexer": "ipython3",
   "version": "3.7.6"
  }
 },
 "nbformat": 4,
 "nbformat_minor": 4
}
