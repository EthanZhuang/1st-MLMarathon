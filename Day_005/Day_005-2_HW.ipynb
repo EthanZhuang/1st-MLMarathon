{
 "cells": [
  {
   "cell_type": "markdown",
   "metadata": {},
   "source": [
    "# Objective\n",
    "\n",
    "\n",
    "試著讀取網頁[text.file](https://raw.githubusercontent.com/vashineyu/slides_and_others/master/tutorial/examples/imagenet_urls_examples.txt)上的圖片連結清單, 再以清單中網址讀取圖片\n",
    "\n",
    "\n",
    "## Keyvalue:\n",
    "    - Learn many ways to produce DataFrame \n",
    "    - Know different types of dictionary \n",
    "    - Learn to extract the value from DataFrame- data.iloc() & data.loc()\n",
    "    \n",
    "\n",
    "## Method: \n",
    "- [利用list做pandas dataframe](https://stackoverflow.com/questions/52463202/type-object-is-not-subscriptable)\n",
    "- [Python Requests fuction](https://blog.gtwang.org/programming/python-requests-module-tutorial/)\n",
    "- [Reading csv file](https://blog.gtwang.org/programming/python-csv-file-reading-and-writing-tutorial/)\n",
    "- [Image resize](https://www.geeksforgeeks.org/python-pil-image-resize-method/)\n",
    "\n",
    "## Thought flow\n",
    "    - Fisrst, Scrap the info from the url first, and then split them into two parts(list form), and store them(list form), finally turn them into dataframe. \n",
    "    - Second, try to read the url info and plot the picture  "
   ]
  },
  {
   "cell_type": "code",
   "execution_count": null,
   "metadata": {},
   "outputs": [],
   "source": [
    "import pandas as pd \n",
    "import numpy as np\n",
    "import requests"
   ]
  },
  {
   "cell_type": "markdown",
   "metadata": {},
   "source": [
    "## Main Program "
   ]
  },
  {
   "cell_type": "code",
   "execution_count": null,
   "metadata": {},
   "outputs": [],
   "source": [
    "target_url = r'https://raw.githubusercontent.com/vashineyu/slides_and_others/master/tutorial/examples/imagenet_urls_examples.txt'\n",
    "# Using requests.get to download the Google website's info\n",
    "info = requests.get(target_url)\n",
    "\n",
    "# 伺服器回應的狀況碼， if it shows 200. It's presents okay.\n",
    "# print('if the num is equal to 200: ', info.status_code)\n",
    "      \n",
    "# # 檢查狀態碼是否 OK\n",
    "try:\n",
    "    if info.status_code == requests.codes.ok:\n",
    "        print(\"OK\")\n",
    "except:\n",
    "    print('Fail to get the data from web')\n",
    "    exit()\n",
    "    \n",
    "# # Turn info into the form of txt.file\n",
    "data = info.text\n",
    "\n",
    "# # 用 request 傳送回的資料不會認得斷行符號\n",
    "# print(len(data))\n",
    "print('the data form is string' + '\\n', data[0: 100])\n",
    "\n",
    "split_tag = '\\n'\n",
    "data = data.split(split_tag)\n",
    "print(data[0: 10])\n",
    "# print(type(data))\n",
    "\n",
    "# Using list to involve the entire answer\n",
    "label = list()\n",
    "weburl = list()\n",
    "\n",
    "for line in data[0: 10]:\n",
    "    line = line.split()\n",
    "#     print('\\n Here is the line')\n",
    "#     print(line)\n",
    "    i = 0\n",
    "    \n",
    "# Words will do the for loop for 73 times, if we don't split it into   \n",
    "    for words in line:\n",
    "        i += 1\n",
    "#         print(words)\n",
    "        \n",
    "        if i%2 != 0:\n",
    "            label.append(words)\n",
    "        else:\n",
    "            weburl.append(words)\n",
    "## Method 1            \n",
    "df = pd.DataFrame([label, weburl])\n",
    "df = df.T\n",
    "df.columns = ['label', 'weburl']\n",
    "print(df)\n",
    "           \n",
    "## Method 2\n",
    "df2 = pd.DataFrame([label, weburl], index = ['label', 'weburl']).T\n",
    "print(df2)\n",
    "    \n",
    "    \n",
    "print('\\n here is the label')\n",
    "print(label)\n",
    "    \n",
    "print('\\n here is the weburl')\n",
    "print(weburl)\n"
   ]
  },
  {
   "cell_type": "markdown",
   "metadata": {},
   "source": [
    "##  Simple version - Reading txt file "
   ]
  },
  {
   "cell_type": "code",
   "execution_count": null,
   "metadata": {},
   "outputs": [],
   "source": [
    "target_url = r'https://raw.githubusercontent.com/vashineyu/slides_and_others/master/tutorial/examples/imagenet_urls_examples.txt'\n",
    "# Using requests.get to download the Google website's info\n",
    "info = requests.get(target_url)\n",
    "\n",
    "## 檢查狀態碼是否 OK\n",
    "try:\n",
    "    if info.status_code == requests.codes.ok:\n",
    "        print('OK, we excatly grap some info')\n",
    "except:\n",
    "    print('Fail to get the data from web')\n",
    "    exit()\n",
    "    \n",
    "# # Turn info into the form of txt.file\n",
    "data = info.text\n",
    "\n",
    "split_tag = '\\n'\n",
    "data = data.split(split_tag)\n",
    "\n",
    "# Using list to involve the entire answer\n",
    "label = list()\n",
    "weburl = list()\n",
    "\n",
    "for line in data:\n",
    "    line = line.split()\n",
    "    i = 0\n",
    "# Words will do the for loop for 73 times, if we don't split it into   \n",
    "    for words in line:\n",
    "        i += 1        \n",
    "        if i%2 != 0:\n",
    "            label.append(words)\n",
    "        else:\n",
    "            weburl.append(words)\n",
    "## Method 2\n",
    "df = pd.DataFrame([label, weburl], index = ['label', 'weburl']).T\n",
    "print(df)\n",
    "\n",
    "df.head()"
   ]
  },
  {
   "cell_type": "markdown",
   "metadata": {},
   "source": [
    "# Second, Reading the pictures  \n",
    "\n"
   ]
  },
  {
   "cell_type": "code",
   "execution_count": null,
   "metadata": {},
   "outputs": [],
   "source": [
    "from PIL import Image\n",
    "from io import BytesIO\n",
    "import numpy as np\n",
    "import matplotlib.pyplot as plt"
   ]
  },
  {
   "cell_type": "markdown",
   "metadata": {},
   "source": [
    "This is a test to ensure the url can work and get the image file"
   ]
  },
  {
   "cell_type": "code",
   "execution_count": null,
   "metadata": {},
   "outputs": [],
   "source": [
    "# print(weburl[0])\n",
    "# first_link = df.get_value(0, 'webb_url')\n",
    "first_link = df.loc[0, 'weburl']\n",
    "print(first_link)\n",
    "\n",
    "web_res = requests.get(first_link)\n",
    "img = Image.open(BytesIO(web_res.content))\n",
    "\n",
    "plt.imshow(img)\n",
    "plt.show()"
   ]
  },
  {
   "cell_type": "markdown",
   "metadata": {},
   "source": [
    "## Create the image array (To turn url_list into img_list )"
   ]
  },
  {
   "cell_type": "code",
   "execution_count": null,
   "metadata": {},
   "outputs": [],
   "source": [
    "# The meaning of this func is to turn url_list into img_list \n",
    "def img2arr_formURLs(url_list, resize = False):\n",
    "    img_list = list()\n",
    "    # print(df['label'][0: 5].values)\n",
    "    # print(type(df['label'][0: 5].values))\n",
    "    for url in url_list:\n",
    "        try: \n",
    "            # read the file and store it \n",
    "            web_res = requests.get(url)\n",
    "            img = Image.open(BytesIO(web_res.content))\n",
    "            img_list.append(img)\n",
    "            if resize:\n",
    "                img = img.resize((256, 256))\n",
    "        except:\n",
    "            continue\n",
    "            \n",
    "\n",
    "    return img_list\n",
    "\n",
    "result = img2arr_formURLs(df['weburl'][0:5].values) \n",
    "# 如果不等於 5, 代表有些連結失效囉\n",
    "print(len(result))\n",
    "\n",
    "# PLot all the imgs \n",
    "for im_get in result:\n",
    "    plt.imshow(im_get)\n",
    "    plt.show()"
   ]
  },
  {
   "cell_type": "markdown",
   "metadata": {},
   "source": [
    "## Simple version - Reading images"
   ]
  },
  {
   "cell_type": "code",
   "execution_count": null,
   "metadata": {},
   "outputs": [],
   "source": [
    "# The meaning of this func is to turn url_list into img_list \n",
    "def img2arr_formURLs(url_list, resize = False):\n",
    "    img_list = list()\n",
    "    for url in url_list:\n",
    "        try: \n",
    "            web_res = requests.get(url)\n",
    "            img = Image.open(BytesIO(web_res.content))\n",
    "            img_list.append(img)\n",
    "            \n",
    "            if resize == True:\n",
    "                img = img.resize((256, 256))  \n",
    "        except:\n",
    "            continue\n",
    "            \n",
    "    return img_list\n",
    "\n",
    "result = img2arr_formURLs(df['weburl'][0:5].values, True) \n",
    "\n",
    "# PLot all the imgs \n",
    "for im_get in result:\n",
    "    plt.imshow(im_get)\n",
    "    plt.show()"
   ]
  },
  {
   "cell_type": "code",
   "execution_count": null,
   "metadata": {},
   "outputs": [],
   "source": []
  }
 ],
 "metadata": {
  "kernelspec": {
   "display_name": "Python 3",
   "language": "python",
   "name": "python3"
  },
  "language_info": {
   "codemirror_mode": {
    "name": "ipython",
    "version": 3
   },
   "file_extension": ".py",
   "mimetype": "text/x-python",
   "name": "python",
   "nbconvert_exporter": "python",
   "pygments_lexer": "ipython3",
   "version": "3.7.6"
  }
 },
 "nbformat": 4,
 "nbformat_minor": 4
}
