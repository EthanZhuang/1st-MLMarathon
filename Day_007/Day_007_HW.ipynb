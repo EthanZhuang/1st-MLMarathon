{
 "cells": [
  {
   "cell_type": "markdown",
   "metadata": {},
   "source": [
    "範例 : (Kaggle)鐵達尼號\n",
    " ===\n",
    "以下用房價預測資料, 觀察特徵的幾種類型\n",
    "這份資料有 'int64', 'float64', 'object' 三種欄位, 分別將其以python的list格式紀錄下來\n",
    "\n",
    "## 作業目標\n",
    "\n",
    "試著完成三種不同特徵類型的三種資料操作, 觀察結果\n",
    "思考一下, 這三種特徵類型, 哪一種應該最複雜/最難處理\n",
    "\n",
    "## 範例重點\n",
    "\n",
    "1. 如何觀察目前的 DataFrame 中, 有哪些欄位類型, 以及數量各有多少\n",
    "\n",
    "2. 如何將欄位名稱依欄位類型分開\n",
    "\n",
    "3. 如何只顯示特定類型的欄位資料\n",
    "\n",
    "## Thinking Flow\n",
    "\n",
    "1. 由於需要訓練資料，所以我們要將\"Survived\" & \"PassengerId\"(identity)單獨先取出來，方便之後訓練模型之用\n",
    "\n",
    "2. 再將dataset(data_train & data_test)去除\"PassengerId\" & \"Survived\"，並整合成一個dataFrame\n",
    "\n",
    "3. 之後reset the index of data，將不同的data 分類成int64, float64, object的形式並和資料結合，將不同型態的columns的資料區別開來(顯示特定類型的欄位資料) \n",
    "\n",
    "## Resources\n",
    "[Predictive Analysis of Survival Rate on Titanic - Kaggle](https://www.kaggle.com/beiqiwang/predictive-analysis-of-survival-rate-on-titanic)\n",
    "\n",
    "* log1p(x): ```x值非常接近0時，不會出現log(x) = 0，會給予正確log結果```\n",
    "\n",
    "![](https://i.stack.imgur.com/ycPOC.png)\n",
    "\n",
    "[What is the purpose of numpy.log1p() - Stackoverflow](https://stackoverflow.com/questions/49538185/what-is-the-purpose-of-numpy-log1p)\n",
    "\n",
    "* nunique(): ```可以計算出row/column的差異值```\n",
    "\n",
    "[Pandas.DataFrame.nunique() - GeeksforGeeks](https://www.geeksforgeeks.org/python-pandas-dataframe-nunique/)\n",
    "\n",
    "\n",
    "* drop(): ``````\n",
    "\n",
    "[Pandas.DataFrame.drop - pandas documents](https://pandas.pydata.org/pandas-docs/stable/reference/api/pandas.DataFrame.drop.html)\n",
    "\n",
    "* concat(): ``````\n",
    "\n",
    "[Pandas.concat - pandas documents](https://pandas.pydata.org/pandas-docs/stable/reference/api/pandas.concat.html)\n",
    "\n",
    "* aggregate(): ``````\n",
    "\n",
    "[Pandas.DataFrame.aggregate - pandas documents](https://pandas.pydata.org/pandas-docs/stable/reference/api/pandas.DataFrame.aggregate.html)\n",
    "\n",
    "\n",
    "* Groupby(): ``````\n",
    "\n",
    "[Pandas.DataFrame.groupby - pandas documents](https://pandas.pydata.org/pandas-docs/stable/reference/api/pandas.DataFrame.groupby.html)\n",
    "\n",
    "[Groupby: Get statistics for each group(such as count, mean, etc) - Stackoverflow](https://stackoverflow.com/questions/19384532/get-statistics-for-each-group-such-as-count-mean-etc-using-pandas-groupby)\n",
    "\n",
    "* dtpyes(): ``````\n",
    "\n",
    "[Pandas.DataFrame.dtypes - pandas documents](https://pandas.pydata.org/pandasdocs/stable/reference/api/pandas.DataFrame.groupby.html))\n",
    "\n",
    "* zip(): ``````\n",
    "\n",
    "[zip() function ](https://www.w3schools.com/python/ref_func_zip.asp)"
   ]
  },
  {
   "cell_type": "code",
   "execution_count": 3,
   "metadata": {},
   "outputs": [],
   "source": [
    "import pandas as pd\n",
    "import numpy as np"
   ]
  },
  {
   "cell_type": "code",
   "execution_count": 18,
   "metadata": {},
   "outputs": [
    {
     "name": "stdout",
     "output_type": "stream",
     "text": [
      "(891, 12)\n"
     ]
    }
   ],
   "source": [
    "# 讀取訓練與測試資料\n",
    "data_train = pd.read_csv('titanic_train.csv')\n",
    "data_test = pd.read_csv('titanic_test.csv')\n",
    "print(data_train.shape)"
   ]
  },
  {
   "cell_type": "code",
   "execution_count": 19,
   "metadata": {},
   "outputs": [
    {
     "data": {
      "text/html": [
       "<div>\n",
       "<style scoped>\n",
       "    .dataframe tbody tr th:only-of-type {\n",
       "        vertical-align: middle;\n",
       "    }\n",
       "\n",
       "    .dataframe tbody tr th {\n",
       "        vertical-align: top;\n",
       "    }\n",
       "\n",
       "    .dataframe thead th {\n",
       "        text-align: right;\n",
       "    }\n",
       "</style>\n",
       "<table border=\"1\" class=\"dataframe\">\n",
       "  <thead>\n",
       "    <tr style=\"text-align: right;\">\n",
       "      <th></th>\n",
       "      <th>Pclass</th>\n",
       "      <th>Name</th>\n",
       "      <th>Sex</th>\n",
       "      <th>Age</th>\n",
       "      <th>SibSp</th>\n",
       "      <th>Parch</th>\n",
       "      <th>Ticket</th>\n",
       "      <th>Fare</th>\n",
       "      <th>Cabin</th>\n",
       "      <th>Embarked</th>\n",
       "    </tr>\n",
       "  </thead>\n",
       "  <tbody>\n",
       "    <tr>\n",
       "      <th>0</th>\n",
       "      <td>3</td>\n",
       "      <td>Braund, Mr. Owen Harris</td>\n",
       "      <td>male</td>\n",
       "      <td>22.0</td>\n",
       "      <td>1</td>\n",
       "      <td>0</td>\n",
       "      <td>A/5 21171</td>\n",
       "      <td>7.2500</td>\n",
       "      <td>NaN</td>\n",
       "      <td>S</td>\n",
       "    </tr>\n",
       "    <tr>\n",
       "      <th>1</th>\n",
       "      <td>1</td>\n",
       "      <td>Cumings, Mrs. John Bradley (Florence Briggs Th...</td>\n",
       "      <td>female</td>\n",
       "      <td>38.0</td>\n",
       "      <td>1</td>\n",
       "      <td>0</td>\n",
       "      <td>PC 17599</td>\n",
       "      <td>71.2833</td>\n",
       "      <td>C85</td>\n",
       "      <td>C</td>\n",
       "    </tr>\n",
       "    <tr>\n",
       "      <th>2</th>\n",
       "      <td>3</td>\n",
       "      <td>Heikkinen, Miss. Laina</td>\n",
       "      <td>female</td>\n",
       "      <td>26.0</td>\n",
       "      <td>0</td>\n",
       "      <td>0</td>\n",
       "      <td>STON/O2. 3101282</td>\n",
       "      <td>7.9250</td>\n",
       "      <td>NaN</td>\n",
       "      <td>S</td>\n",
       "    </tr>\n",
       "    <tr>\n",
       "      <th>3</th>\n",
       "      <td>1</td>\n",
       "      <td>Futrelle, Mrs. Jacques Heath (Lily May Peel)</td>\n",
       "      <td>female</td>\n",
       "      <td>35.0</td>\n",
       "      <td>1</td>\n",
       "      <td>0</td>\n",
       "      <td>113803</td>\n",
       "      <td>53.1000</td>\n",
       "      <td>C123</td>\n",
       "      <td>S</td>\n",
       "    </tr>\n",
       "    <tr>\n",
       "      <th>4</th>\n",
       "      <td>3</td>\n",
       "      <td>Allen, Mr. William Henry</td>\n",
       "      <td>male</td>\n",
       "      <td>35.0</td>\n",
       "      <td>0</td>\n",
       "      <td>0</td>\n",
       "      <td>373450</td>\n",
       "      <td>8.0500</td>\n",
       "      <td>NaN</td>\n",
       "      <td>S</td>\n",
       "    </tr>\n",
       "  </tbody>\n",
       "</table>\n",
       "</div>"
      ],
      "text/plain": [
       "   Pclass                                               Name     Sex   Age  \\\n",
       "0       3                            Braund, Mr. Owen Harris    male  22.0   \n",
       "1       1  Cumings, Mrs. John Bradley (Florence Briggs Th...  female  38.0   \n",
       "2       3                             Heikkinen, Miss. Laina  female  26.0   \n",
       "3       1       Futrelle, Mrs. Jacques Heath (Lily May Peel)  female  35.0   \n",
       "4       3                           Allen, Mr. William Henry    male  35.0   \n",
       "\n",
       "   SibSp  Parch            Ticket     Fare Cabin Embarked  \n",
       "0      1      0         A/5 21171   7.2500   NaN        S  \n",
       "1      1      0          PC 17599  71.2833   C85        C  \n",
       "2      0      0  STON/O2. 3101282   7.9250   NaN        S  \n",
       "3      1      0            113803  53.1000  C123        S  \n",
       "4      0      0            373450   8.0500   NaN        S  "
      ]
     },
     "execution_count": 19,
     "metadata": {},
     "output_type": "execute_result"
    }
   ],
   "source": [
    "# 訓練資料需要 train_X, train_Y / 預測輸出需要 ids(識別每個預測值), test_X\n",
    "# 在此先抽離出 train_Y 與 ids, 而先將 train_X, test_X 該有的資料合併成 df, 先作特徵工程\n",
    "train_Y = np.log1p(data_train['Survived'])\n",
    "# print(data_train['Survived'])\n",
    "ids = data_test['PassengerId']\n",
    "\n",
    "# axis = 1 代表整個column\n",
    "# SalePrice only exists in data_train\n",
    "data_train = data_train.drop(['PassengerId', 'Survived'] , axis=1)\n",
    "data_test = data_test.drop(['PassengerId'] , axis=1)\n",
    "df = pd.concat([data_train, data_test], ignore_index = True)\n",
    "df.head()"
   ]
  },
  {
   "cell_type": "code",
   "execution_count": 21,
   "metadata": {},
   "outputs": [
    {
     "data": {
      "text/html": [
       "<div>\n",
       "<style scoped>\n",
       "    .dataframe tbody tr th:only-of-type {\n",
       "        vertical-align: middle;\n",
       "    }\n",
       "\n",
       "    .dataframe tbody tr th {\n",
       "        vertical-align: top;\n",
       "    }\n",
       "\n",
       "    .dataframe thead th {\n",
       "        text-align: right;\n",
       "    }\n",
       "</style>\n",
       "<table border=\"1\" class=\"dataframe\">\n",
       "  <thead>\n",
       "    <tr style=\"text-align: right;\">\n",
       "      <th></th>\n",
       "      <th>Column Type</th>\n",
       "      <th>Count</th>\n",
       "    </tr>\n",
       "  </thead>\n",
       "  <tbody>\n",
       "    <tr>\n",
       "      <th>0</th>\n",
       "      <td>int64</td>\n",
       "      <td>3</td>\n",
       "    </tr>\n",
       "    <tr>\n",
       "      <th>1</th>\n",
       "      <td>float64</td>\n",
       "      <td>2</td>\n",
       "    </tr>\n",
       "    <tr>\n",
       "      <th>2</th>\n",
       "      <td>object</td>\n",
       "      <td>5</td>\n",
       "    </tr>\n",
       "  </tbody>\n",
       "</table>\n",
       "</div>"
      ],
      "text/plain": [
       "  Column Type  Count\n",
       "0       int64      3\n",
       "1     float64      2\n",
       "2      object      5"
      ]
     },
     "execution_count": 21,
     "metadata": {},
     "output_type": "execute_result"
    }
   ],
   "source": [
    "# 秀出資料欄位的類型, 與對應的數量\n",
    "# df.dtypes : 轉成以欄位為 index, 類別(type)為 value 的 DataFrame\n",
    "# .reset_index() : 預設是將原本的 index 轉成一個新的欄位, 如果不須保留 index, 則通常會寫成 .reset_index(drop=True)\n",
    "dtype_df = df.dtypes.reset_index() \n",
    "dtype_df.columns = [\"Count\", \"Column Type\"]\n",
    "dtype_df = dtype_df.groupby(\"Column Type\").aggregate('count').reset_index()\n",
    "dtype_df"
   ]
  },
  {
   "cell_type": "markdown",
   "metadata": {},
   "source": [
    "## 了解程式碼背後的意義\n",
    "DataFrame.dtypes/ DataFrame.columns/ zip(df.dtypes, df.columns)背後所儲存的資料"
   ]
  },
  {
   "cell_type": "code",
   "execution_count": 22,
   "metadata": {},
   "outputs": [
    {
     "name": "stdout",
     "output_type": "stream",
     "text": [
      "  Column Type  Count\n",
      "0       int64      3\n",
      "1     float64      2\n",
      "2      object      5\n",
      "Index(['Pclass', 'Name', 'Sex', 'Age', 'SibSp', 'Parch', 'Ticket', 'Fare',\n",
      "       'Cabin', 'Embarked'],\n",
      "      dtype='object')\n",
      "<zip object at 0x0000017881344C48>\n"
     ]
    }
   ],
   "source": [
    "print(dtype_df)\n",
    "print(df.columns)\n",
    "print(zip(df.dtypes, df.columns))"
   ]
  },
  {
   "cell_type": "code",
   "execution_count": 11,
   "metadata": {},
   "outputs": [
    {
     "name": "stdout",
     "output_type": "stream",
     "text": [
      "3 Integer Features : ['Pclass', 'SibSp', 'Parch']\n",
      "\n",
      "2 Float Features : ['Age', 'Fare']\n",
      "\n",
      "5 Object Features : ['Name', 'Sex', 'Ticket', 'Cabin', 'Embarked']\n"
     ]
    }
   ],
   "source": [
    "#確定只有 int64, float64, object 三種類型後, 分別將欄位名稱存於三個 list 中\n",
    "int_features = []\n",
    "float_features = []\n",
    "object_features = []\n",
    "for dtype, feature in zip(df.dtypes, df.columns):\n",
    "    if dtype == 'float64':\n",
    "        float_features.append(feature)\n",
    "    elif dtype == 'int64':\n",
    "        int_features.append(feature)\n",
    "    else:\n",
    "        object_features.append(feature)\n",
    "print(f'{len(int_features)} Integer Features : {int_features}\\n')\n",
    "print(f'{len(float_features)} Float Features : {float_features}\\n')\n",
    "print(f'{len(object_features)} Object Features : {object_features}')"
   ]
  },
  {
   "cell_type": "markdown",
   "metadata": {},
   "source": [
    "---\n",
    "## 作業一\n",
    "\n",
    "試著執行作業程式，觀察三種類型的欄位分別進行( 平均 mean / 最大值 Max / 相異值 nunique ) 中的九次操作會有那些問題?\n",
    "並試著解釋那些發生Error的程式區塊的原因?\n",
    "\n",
    "* 在處理object會出現錯誤，因為string無法做平均，這種數值運算，所以會得到Series([], dtype: float64) 空的list。而max() function 給的應該也是比較第一個英文字母的順序。整體只有nunique() function是可以做運算的。"
   ]
  },
  {
   "cell_type": "code",
   "execution_count": 12,
   "metadata": {},
   "outputs": [
    {
     "name": "stdout",
     "output_type": "stream",
     "text": [
      "Pclass    2.2\n",
      "SibSp     0.6\n",
      "Parch     0.0\n",
      "dtype: float64 \n",
      "\n",
      "Pclass    3\n",
      "SibSp     1\n",
      "Parch     0\n",
      "dtype: int64 \n",
      "\n",
      "Pclass    2\n",
      "SibSp     2\n",
      "Parch     1\n",
      "dtype: int64 \n",
      "\n"
     ]
    }
   ],
   "source": [
    "df[int_features].head()\n",
    "print(df[int_features].head().mean(), '\\n')\n",
    "print(df[int_features].head().max(), '\\n')\n",
    "print(df[int_features].head().nunique(), '\\n')"
   ]
  },
  {
   "cell_type": "code",
   "execution_count": 24,
   "metadata": {},
   "outputs": [
    {
     "name": "stdout",
     "output_type": "stream",
     "text": [
      "                                                Name     Sex  \\\n",
      "0                            Braund, Mr. Owen Harris    male   \n",
      "1  Cumings, Mrs. John Bradley (Florence Briggs Th...  female   \n",
      "2                             Heikkinen, Miss. Laina  female   \n",
      "3       Futrelle, Mrs. Jacques Heath (Lily May Peel)  female   \n",
      "4                           Allen, Mr. William Henry    male   \n",
      "\n",
      "             Ticket Cabin Embarked  \n",
      "0         A/5 21171   NaN        S  \n",
      "1          PC 17599   C85        C  \n",
      "2  STON/O2. 3101282   NaN        S  \n",
      "3            113803  C123        S  \n",
      "4            373450   NaN        S   \n",
      "\n",
      "Series([], dtype: float64) \n",
      "\n",
      "Name        Heikkinen, Miss. Laina\n",
      "Sex                           male\n",
      "Ticket            STON/O2. 3101282\n",
      "Embarked                         S\n",
      "dtype: object \n",
      "\n",
      "Name        5\n",
      "Sex         2\n",
      "Ticket      5\n",
      "Cabin       2\n",
      "Embarked    2\n",
      "dtype: int64 \n",
      "\n"
     ]
    }
   ],
   "source": [
    "print(df[object_features].head(), '\\n')\n",
    "\n",
    "print(df[object_features].head().mean(), '\\n')\n",
    "print(df[object_features].head().max(), '\\n')\n",
    "print(df[object_features].head().nunique(), '\\n')"
   ]
  },
  {
   "cell_type": "code",
   "execution_count": 14,
   "metadata": {},
   "outputs": [
    {
     "name": "stdout",
     "output_type": "stream",
     "text": [
      "Age     31.20000\n",
      "Fare    29.52166\n",
      "dtype: float64 \n",
      "\n",
      "Age     38.0000\n",
      "Fare    71.2833\n",
      "dtype: float64 \n",
      "\n",
      "Age     4\n",
      "Fare    5\n",
      "dtype: int64 \n",
      "\n"
     ]
    }
   ],
   "source": [
    "print(df[float_features].head().mean(), '\\n')\n",
    "print(df[float_features].head().max(), '\\n')\n",
    "print(df[float_features].head().nunique(), '\\n')"
   ]
  },
  {
   "cell_type": "markdown",
   "metadata": {},
   "source": [
    "---\n",
    "## 作業二\n",
    "\n",
    "思考一下，試著舉出今天五種類型以外的一種或多種資料類型，你舉出的新類型是否可以歸在三大類中的某些大類?\n",
    "所以三大類特徵中，哪一大類處理起來應該最複雜?\n",
    "\n",
    "1. object處理起來最複雜，因為要定義order和分類是一件大工程\n",
    "\n",
    "2. EX: 複數 (a+bi)，因為需要兩個數字表示，雖然概念上是數值，但因為無法比較大小，因此只能歸類為\"類別型欄位\"，不論其他更奇怪的例子，都可以歸類為類別型欄位，因此類別型欄位應該最難處理"
   ]
  },
  {
   "cell_type": "markdown",
   "metadata": {},
   "source": []
  }
 ],
 "metadata": {
  "kernelspec": {
   "display_name": "Python 3",
   "language": "python",
   "name": "python3"
  },
  "language_info": {
   "codemirror_mode": {
    "name": "ipython",
    "version": 3
   },
   "file_extension": ".py",
   "mimetype": "text/x-python",
   "name": "python",
   "nbconvert_exporter": "python",
   "pygments_lexer": "ipython3",
   "version": "3.7.6"
  }
 },
 "nbformat": 4,
 "nbformat_minor": 4
}
