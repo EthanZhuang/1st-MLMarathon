{
 "cells": [
  {
   "attachments": {},
   "cell_type": "markdown",
   "metadata": {},
   "source": [
    "Objective\n",
    "=== \n",
    "\n",
    "* 思考資料中常見的特徵類型\n",
    "* 將上述特徵類型轉換成對目標的猜測，有哪些地方該注意?\n",
    "\n",
    "## 特徵類型\n",
    "\n",
    "**變數種類:**\n",
    "\n",
    "1. 數值型特徵: (注意細節)\n",
    "    - 有不同轉換方式，函數/條件式都行\n",
    "    \n",
    "2. 類別型特徵: (Problem is如何應對)\n",
    "    - 通常一種類別對應一種分數    \n",
    "![](https://i.imgur.com/3tTk4OA.png)\n",
    "\n",
    "3. 二元特徵: True/False\n",
    "    - 也可以當作數值型特徵(True: 1/False: 0)\n",
    "    \n",
    "4. 排序型特徵\n",
    "    - 名次/百分等級，有大小關係，但並非連續數字\n",
    "    - 通常當作數值型特徵處理，因為當作類別型會失去排序資訊\n",
    "![](https://i.imgur.com/CND9iCg.png)\n",
    "\n",
    "5. 時間型特徵(週期性)\n",
    "    - Can both be 數值型或類別型特徵，但**都不適合**\n",
    "    \n",
    "    Disadvantages:\n",
    "        - if 總秒數當作數值，但會失去週期性(ex 月/星期)\n",
    "        - 使用本身當作類別，但會失去排序資訊，類別數量也過大\n",
    "![](https://i.imgur.com/JAWV6Ux.png)\n",
    "\n",
    "\n",
    "**補充說明**\n",
    "* cross_val_score 顯示改善效果 : 分數越高表示效果越好\n",
    "\n",
    "[Cross-validation(交叉驗證) - 知乎](https://zhuanlan.zhihu.com/p/24825503)"
   ]
  },
  {
   "cell_type": "markdown",
   "metadata": {},
   "source": [
    "## 延伸閱讀\n",
    "\n",
    "[python 3 Tutorial 數值與字串型態](https://openhome.cc/Gossip/CodeData/PythonTutorial/NumericStringPy3.html)\n",
    "\n",
    "```Algorithms + Data Structures = Programs(演算法 + 資料結構 = 程式)```\n",
    "\n",
    "---\n",
    "You should know for the program \n",
    "   - 內見型態(buil-in type), 變數(VAriable), 運算子(Operator), 函式(Function), 類別(Class), 模組(Module), 套件(Package)\n",
    "    \n",
    "---\n",
    "無論如何，接下來要認識的內建型態都是物件，像是：\n",
    "\n",
    "1. 數值型態（Numeric type） - int, long, float, bool, complex\n",
    "2. 字串型態（String type）\n",
    "3. 容器型態（Container type） - list, set, dict, tuple\n",
    "\n",
    "\n",
    "\n",
    "## Resources \n",
    "\n",
    "0. GitBash\n",
    ":push large files\n",
    "\n",
    "[GitBash push large files](https://ithelp.ithome.com.tw/articles/10191301)"
   ]
  },
  {
   "cell_type": "code",
   "execution_count": null,
   "metadata": {},
   "outputs": [],
   "source": []
  }
 ],
 "metadata": {
  "kernelspec": {
   "display_name": "Python 3",
   "language": "python",
   "name": "python3"
  },
  "language_info": {
   "codemirror_mode": {
    "name": "ipython",
    "version": 3
   },
   "file_extension": ".py",
   "mimetype": "text/x-python",
   "name": "python",
   "nbconvert_exporter": "python",
   "pygments_lexer": "ipython3",
   "version": "3.7.6"
  }
 },
 "nbformat": 4,
 "nbformat_minor": 4
}
