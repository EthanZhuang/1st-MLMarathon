{
 "cells": [
  {
   "cell_type": "markdown",
   "metadata": {},
   "source": [
    "Objective\n",
    "=== \n",
    "了解csv資料的格式處理和如何分析\n",
    "\n",
    "## EDA資料類型介紹(格式處理)\n",
    "\n",
    "**變數種類:**\n",
    "1. 離散變數: 只能用整數單位計算的變數\n",
    "    - 房子的數量、性別、國家\n",
    "2. 連續變數: 在一定區間內可以任意取值的變數\n",
    "    - 測量的身高、飛機起飛到降落所花費的時間、車速\n",
    "    \n",
    "**資料類型**\n",
    "1. float64: 浮點數(離散跟連續)\n",
    "2. int64: 整數(離散跟連續)\n",
    "3. object: 包含字串(類別型變數)\n",
    "\n",
    "**資料該如何處理**\n",
    "進一步分析(ex.訓練模型)\n",
    "字串/類別:\n",
    "- label encoding: 使用時機通常是該資料的不同類別是有序的，例如該資料是年齡分組，類別有小孩、年輕人、老人，表示為 0, 1, 2 是合理的，因為年齡上老人 > 年輕人、年輕人 > 小孩\n",
    "- one hot encoding: 使用時機通常是該資料的不同類別是無序的，例如國家\n",
    "\n",
    "## Resources \n",
    "\n",
    "0. Machine Learning 鐵人30天\n",
    "\n",
    "[IT幫幫忙](https://ithelp.ithome.com.tw/users/20112568/ironman)\n",
    "\n",
    "1. Label Encoder & One Hot Encoder\n",
    "\n",
    "[Label Encoder vs. One Hot Encoder in Machine Learning - Medium](https://medium.com/@contactsunny/label-encoder-vs-one-hot-encoder-in-machine-learning-3fc273365621)\n",
    "\n",
    "[資料前處理Label Encoder vs. One Hot Encoder - Medium](https://medium.com/@PatHuang/%E5%88%9D%E5%AD%B8python%E6%89%8B%E8%A8%98-3-%E8%B3%87%E6%96%99%E5%89%8D%E8%99%95%E7%90%86-label-encoding-one-hot-encoding-85c983d63f87)\n",
    "\n",
    "2. fit function in scikit learn: \n",
    "\n",
    "[fit func - scikit learn document](https://scikit-learn.org/stable/tutorial/basic/tutorial.html)\n",
    "\n",
    "[fit func in elaboration - StackOverflow](https://stackoverflow.com/questions/45704226/what-does-fit-method-in-scikit-learn-do)\n",
    "\n",
    "3. Unique func: \n",
    "\n",
    "[Unique func - geeks4geeks](https://www.geeksforgeeks.org/python-get-unique-values-list/)\n",
    "\n",
    "4. Pandas get.dummies func:\n",
    "\n",
    "[pd.get_dummies() - pandas documentation](https://pandas.pydata.org/pandas-docs/stable/reference/api/pandas.get_dummies.html)\n",
    "\n",
    "5. fit, transform, fit_transform func in scikit learn:\n",
    "\n",
    "[fit, transform, fit_transform func - Kaggle](https://www.kaggle.com/questions-and-answers/58368)"
   ]
  },
  {
   "cell_type": "markdown",
   "metadata": {},
   "source": [
    "### Raw data \n",
    "![](https://i.imgur.com/z0JkKwD.png)"
   ]
  },
  {
   "cell_type": "markdown",
   "metadata": {},
   "source": [
    "### 1. Label Encoder (程式不好懂Data順序)\n",
    "We can't have text in our data if we're going to run any kind of model on it. So, we have to convert all kind of categorical text data into model-understandable numerical data.\n",
    "\n",
    "```Python\n",
    "from sklearn.preprocessing import LabelEncoder\n",
    "labelencoder = LabelEncoder()\n",
    "x[:, 0] = labelencoder.fit_transform(x[:, 0])\n",
    "\n",
    "```\n",
    "The result\n",
    "![](https://i.imgur.com/lkeaXNA.png)\n",
    "\n",
    "\n",
    "#### Disadvantage:\n",
    "Since there are different numbers in the same column, the model will ***misunderstand the data to be in some kind of order, 0 < 1< 2(不同國家).*** But this isn't the case at all. To overcome this problem, we use One Hot Encoder."
   ]
  },
  {
   "cell_type": "markdown",
   "metadata": {},
   "source": [
    "## 程式Program(Label Encoding)\n",
    "\n",
    "Label encoding 的表示方式會讓同一個欄位底下的類別之間有大小關係 (0<1<2<...)"
   ]
  },
  {
   "cell_type": "code",
   "execution_count": 34,
   "metadata": {},
   "outputs": [],
   "source": [
    "from sklearn.preprocessing import LabelEncoder\n",
    "import pandas as pd\n",
    "\n",
    "app_train = pd.read_csv('application_train.csv') \n",
    "app_test = pd.read_csv('application_test.csv')"
   ]
  },
  {
   "cell_type": "markdown",
   "metadata": {},
   "source": [
    "所以在這裡我們只對有類別數量小於等於 2 的類別型欄位示範使用 Label encoding，但不表示這樣處理是最好的，一切取決於欄位本身的意義適合哪一種表示方法，再利用fit&transform func to estimate the best representative function for the data points (could be a line,polynomial or discrete boarders around)\n",
    "\n",
    "```python\n",
    "if len(list(app_train[col].unique())) <= 2:  \n",
    "    #這裡是將app_train變成一種list的形式儲存\n",
    "    # Y = colunm type is object\n",
    "    # N = colunm type is not object\n",
    "    print(list(app_train[col]))\n",
    "\n",
    "    # Train on the training data\n",
    "    le.fit(app_train[col])\n",
    "    # Transform both training and testing data\n",
    "    app_train[col] = le.transform(app_train[col])\n",
    "    app_test[col] = le.transform(app_test[col])\n",
    "```"
   ]
  },
  {
   "cell_type": "code",
   "execution_count": 35,
   "metadata": {},
   "outputs": [
    {
     "name": "stdout",
     "output_type": "stream",
     "text": [
      "3 columns were label encoded.\n"
     ]
    }
   ],
   "source": [
    "# Create a label encoder object\n",
    "le = LabelEncoder()\n",
    "le_count = 0\n",
    "\n",
    "# Iterate through the columns\n",
    "for col in app_train:\n",
    "    if app_train[col].dtype == 'object':\n",
    "        \n",
    "        # 如果column的全部種類少於2種\n",
    "        # If 2 or fewer unique categories\n",
    "        if len(list(app_train[col].unique())) <= 2:\n",
    "            \n",
    "            #這裡是將app_train變成一種list的形式儲存\n",
    "            # Y = colunm type is object\n",
    "            # N = colunm type is not object\n",
    "#             print(list(app_train[col]))\n",
    "            \n",
    "            # Train on the training data\n",
    "            le.fit(app_train[col])\n",
    "            # Transform both training and testing data\n",
    "            app_train[col] = le.transform(app_train[col])\n",
    "            app_test[col] = le.transform(app_test[col])\n",
    "            \n",
    "            # Keep track of how many columns were label encoded\n",
    "            le_count += 1\n",
    "            \n",
    "print('%d columns were label encoded.' % le_count)"
   ]
  },
  {
   "cell_type": "code",
   "execution_count": 36,
   "metadata": {},
   "outputs": [],
   "source": [
    "print(list(app_train[col]))"
   ]
  },
  {
   "cell_type": "code",
   "execution_count": null,
   "metadata": {},
   "outputs": [],
   "source": [
    "## Why using fit and "
   ]
  },
  {
   "cell_type": "markdown",
   "metadata": {},
   "source": [
    "## 2. One Hot Encoder (程式好懂data順序) \n",
    "It takes a column which has categorical data, which has been label encoede, and then splits the column into multiple columns.\n",
    "\n",
    "```python\n",
    "from sklearn.preprocessing import OneHotEncoder\n",
    "onehotencoder = OneHotEncoder(categorical_features = [0])\n",
    "x = onehotencoder.fit_transform(x).toarray()\n",
    "```\n",
    "\n",
    "As the code applying, we'll get three new columns, one for each county - France, Germany, and Span\n",
    "\n",
    "For rows which have the first column value as France, the ‘France’ column will have a ‘1’ and the other two columns will have ‘0’s. Similarly, for rows which have the first column value as Germany, the ‘Germany’ column will have a ‘1’ and the other two columns will have ‘0’s.\n",
    "![](https://i.imgur.com/mzyEosW.png)"
   ]
  },
  {
   "cell_type": "markdown",
   "metadata": {},
   "source": [
    "## Program(One Hot Encoding - pandas method)"
   ]
  },
  {
   "cell_type": "code",
   "execution_count": null,
   "metadata": {},
   "outputs": [],
   "source": [
    "import pandas as pd\n",
    "import numpy as np"
   ]
  },
  {
   "cell_type": "code",
   "execution_count": null,
   "metadata": {},
   "outputs": [],
   "source": [
    "app_train = pd.read_csv('application_train.csv') "
   ]
  },
  {
   "cell_type": "markdown",
   "metadata": {},
   "source": [
    "### 檢視資料中各個欄位類型的數量"
   ]
  },
  {
   "cell_type": "code",
   "execution_count": 16,
   "metadata": {},
   "outputs": [
    {
     "data": {
      "text/plain": [
       "float64    65\n",
       "int64      41\n",
       "object     16\n",
       "dtype: int64"
      ]
     },
     "execution_count": 16,
     "metadata": {},
     "output_type": "execute_result"
    }
   ],
   "source": [
    "# 1. check the data type\n",
    "app_train.dtypes.value_counts()"
   ]
  },
  {
   "cell_type": "markdown",
   "metadata": {},
   "source": [
    "### 檢視資料中類別型欄位各自類別的數量\n",
    "\n",
    "用檢視功能，並用One Hot Encoding來檢查 \"NAME_HOUSING_TYPE\" 是否有6種不同的類別數量，"
   ]
  },
  {
   "cell_type": "code",
   "execution_count": 15,
   "metadata": {},
   "outputs": [
    {
     "name": "stdout",
     "output_type": "stream",
     "text": [
      "NAME_CONTRACT_TYPE             2\n",
      "CODE_GENDER                    3\n",
      "FLAG_OWN_CAR                   2\n",
      "FLAG_OWN_REALTY                2\n",
      "NAME_TYPE_SUITE                7\n",
      "NAME_INCOME_TYPE               8\n",
      "NAME_EDUCATION_TYPE            5\n",
      "NAME_FAMILY_STATUS             6\n",
      "NAME_HOUSING_TYPE              6\n",
      "OCCUPATION_TYPE               18\n",
      "WEEKDAY_APPR_PROCESS_START     7\n",
      "ORGANIZATION_TYPE             58\n",
      "FONDKAPREMONT_MODE             4\n",
      "HOUSETYPE_MODE                 3\n",
      "WALLSMATERIAL_MODE             7\n",
      "EMERGENCYSTATE_MODE            2\n",
      "dtype: int64 \n",
      "\n",
      "0         House / apartment\n",
      "1         House / apartment\n",
      "2         House / apartment\n",
      "3         House / apartment\n",
      "4         House / apartment\n",
      "                ...        \n",
      "307506         With parents\n",
      "307507    House / apartment\n",
      "307508    House / apartment\n",
      "307509    House / apartment\n",
      "307510    House / apartment\n",
      "Name: NAME_HOUSING_TYPE, Length: 307511, dtype: object \n",
      "\n",
      "        NAME_HOUSING_TYPE_Co-op apartment  \\\n",
      "0                                       0   \n",
      "1                                       0   \n",
      "2                                       0   \n",
      "3                                       0   \n",
      "4                                       0   \n",
      "...                                   ...   \n",
      "307506                                  0   \n",
      "307507                                  0   \n",
      "307508                                  0   \n",
      "307509                                  0   \n",
      "307510                                  0   \n",
      "\n",
      "        NAME_HOUSING_TYPE_House / apartment  \\\n",
      "0                                         1   \n",
      "1                                         1   \n",
      "2                                         1   \n",
      "3                                         1   \n",
      "4                                         1   \n",
      "...                                     ...   \n",
      "307506                                    0   \n",
      "307507                                    1   \n",
      "307508                                    1   \n",
      "307509                                    1   \n",
      "307510                                    1   \n",
      "\n",
      "        NAME_HOUSING_TYPE_Municipal apartment  \\\n",
      "0                                           0   \n",
      "1                                           0   \n",
      "2                                           0   \n",
      "3                                           0   \n",
      "4                                           0   \n",
      "...                                       ...   \n",
      "307506                                      0   \n",
      "307507                                      0   \n",
      "307508                                      0   \n",
      "307509                                      0   \n",
      "307510                                      0   \n",
      "\n",
      "        NAME_HOUSING_TYPE_Office apartment  \\\n",
      "0                                        0   \n",
      "1                                        0   \n",
      "2                                        0   \n",
      "3                                        0   \n",
      "4                                        0   \n",
      "...                                    ...   \n",
      "307506                                   0   \n",
      "307507                                   0   \n",
      "307508                                   0   \n",
      "307509                                   0   \n",
      "307510                                   0   \n",
      "\n",
      "        NAME_HOUSING_TYPE_Rented apartment  NAME_HOUSING_TYPE_With parents  \n",
      "0                                        0                               0  \n",
      "1                                        0                               0  \n",
      "2                                        0                               0  \n",
      "3                                        0                               0  \n",
      "4                                        0                               0  \n",
      "...                                    ...                             ...  \n",
      "307506                                   0                               1  \n",
      "307507                                   0                               0  \n",
      "307508                                   0                               0  \n",
      "307509                                   0                               0  \n",
      "307510                                   0                               0  \n",
      "\n",
      "[307511 rows x 6 columns]\n"
     ]
    }
   ],
   "source": [
    "ob_num = app_train.select_dtypes(include=[\"object\"]).apply(pd.Series.nunique, axis = 0)\n",
    "print(ob_num, '\\n')\n",
    "print(app_train['NAME_HOUSING_TYPE'], '\\n')\n",
    "\n",
    "# One Hot Encoding \n",
    "app_train = pd.read_csv('application_train.csv') \n",
    "name_train = pd.DataFrame(app_train['NAME_HOUSING_TYPE'])\n",
    "data_name = pd.get_dummies(name_train)\n",
    "print(data_name)"
   ]
  },
  {
   "cell_type": "code",
   "execution_count": null,
   "metadata": {},
   "outputs": [],
   "source": []
  }
 ],
 "metadata": {
  "kernelspec": {
   "display_name": "Python 3",
   "language": "python",
   "name": "python3"
  },
  "language_info": {
   "codemirror_mode": {
    "name": "ipython",
    "version": 3
   },
   "file_extension": ".py",
   "mimetype": "text/x-python",
   "name": "python",
   "nbconvert_exporter": "python",
   "pygments_lexer": "ipython3",
   "version": "3.7.6"
  }
 },
 "nbformat": 4,
 "nbformat_minor": 4
}
