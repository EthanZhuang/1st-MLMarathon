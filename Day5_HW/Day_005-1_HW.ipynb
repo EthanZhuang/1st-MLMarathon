{
 "cells": [
  {
   "cell_type": "markdown",
   "metadata": {},
   "source": [
    "# Objective\n",
    "\n",
    "在小量的資料上，我們用眼睛就可以看得出來程式碼是否有跑出我們理想中的結果。請嘗試想像一個你需要的資料結構 (裡面的值是隨機的)，然後用程式碼範例的方法把它變成 DataFrame。\n",
    "Ex: 想像一個 dataframe 有兩個欄位，一個是國家，一個是人口，求人口數最多的國家。\n",
    "還有人口平均數\n",
    "\n",
    "\n",
    "## Keyvalue:\n",
    "    - Learn many ways to produce DataFrame \n",
    "    - Know different types of dictionary \n",
    "    - Learn to extract the value from DataFrame- data.iloc() & data.loc()\n",
    "    \n",
    "\n",
    "## Method: \n",
    "- [Random varibles](https://blog.csdn.net/christianashannon/article/details/78867204)\n",
    "- [How to sort pandas dataframe](https://datatofish.com/sort-pandas-dataframe/)\n",
    "- [學習如何利用Groupby刪減DataFrame中的column](https://stackoverflow.com/questions/30482071/how-to-calculate-mean-values-grouped-on-another-column-in-pandas)\n",
    "\n",
    "## Thought flow\n",
    "    - Create a list with the data of many countries and their poulations. And then tyr to use List or Dict to create the DataFrame. Finally print out the contry with the most population/"
   ]
  },
  {
   "cell_type": "code",
   "execution_count": 1,
   "metadata": {},
   "outputs": [],
   "source": [
    "import numpy as np \n",
    "import pandas as pd"
   ]
  },
  {
   "cell_type": "markdown",
   "metadata": {},
   "source": [
    "## 方法一 (data type is dict)"
   ]
  },
  {
   "cell_type": "code",
   "execution_count": 2,
   "metadata": {},
   "outputs": [
    {
     "name": "stdout",
     "output_type": "stream",
     "text": [
      "              國家        人口\n",
      "0         Taiwan   2460748\n",
      "1  United States   5784948\n",
      "2       Thailand  46030820\n"
     ]
    },
    {
     "data": {
      "text/html": [
       "<div>\n",
       "<style scoped>\n",
       "    .dataframe tbody tr th:only-of-type {\n",
       "        vertical-align: middle;\n",
       "    }\n",
       "\n",
       "    .dataframe tbody tr th {\n",
       "        vertical-align: top;\n",
       "    }\n",
       "\n",
       "    .dataframe thead th {\n",
       "        text-align: right;\n",
       "    }\n",
       "</style>\n",
       "<table border=\"1\" class=\"dataframe\">\n",
       "  <thead>\n",
       "    <tr style=\"text-align: right;\">\n",
       "      <th></th>\n",
       "      <th>國家</th>\n",
       "      <th>人口</th>\n",
       "    </tr>\n",
       "  </thead>\n",
       "  <tbody>\n",
       "    <tr>\n",
       "      <th>0</th>\n",
       "      <td>Taiwan</td>\n",
       "      <td>2460748</td>\n",
       "    </tr>\n",
       "    <tr>\n",
       "      <th>1</th>\n",
       "      <td>United States</td>\n",
       "      <td>5784948</td>\n",
       "    </tr>\n",
       "    <tr>\n",
       "      <th>2</th>\n",
       "      <td>Thailand</td>\n",
       "      <td>46030820</td>\n",
       "    </tr>\n",
       "  </tbody>\n",
       "</table>\n",
       "</div>"
      ],
      "text/plain": [
       "              國家        人口\n",
       "0         Taiwan   2460748\n",
       "1  United States   5784948\n",
       "2       Thailand  46030820"
      ]
     },
     "execution_count": 2,
     "metadata": {},
     "output_type": "execute_result"
    }
   ],
   "source": [
    "## Data frame as a dictionary \n",
    "# Nation = pd.Series({'Taiwan', 'United States', 'Thailand'})\n",
    "Tai_pop = np.random.randint(0, 1*10**8)\n",
    "United_pop = np.random.randint(0, 1*10**8)\n",
    "Thai_pop = np.random.randint(0, 1*10**8)\n",
    "\n",
    "# pop = pd.Series({'Taiwan': 3*10**6, 'United States': 5*10**7, \n",
    "#                  'Thailand': 7*10**8})\n",
    "\n",
    "pop = pd.Series({'Taiwan': Tai_pop, 'United States': United_pop, \n",
    "                 'Thailand': Thai_pop})\n",
    "\n",
    "data = pd.DataFrame({'國家': pop.index, '人口': pop.values})\n",
    "print(data)\n",
    "\n",
    "# Sort Pandas Dataframe by population in a decending order \n",
    "data_pop = data.sort_values(by = ['人口'], inplace = False) \n",
    "data_pop"
   ]
  },
  {
   "cell_type": "markdown",
   "metadata": {},
   "source": [
    "## 方法二 data is dict but 不同型態 (失敗)"
   ]
  },
  {
   "cell_type": "code",
   "execution_count": null,
   "metadata": {},
   "outputs": [],
   "source": [
    "data = pd.Series([3*10**6, 5*10**7, 7*10**8], \n",
    "                 index = ['Taiwan', 'United States', 'Thailand'], \n",
    "                 dtype = np.float)\n",
    "data = pd.DataFrame('國家': data.index(), '人口': data.values())\n",
    "\n",
    "data"
   ]
  },
  {
   "cell_type": "markdown",
   "metadata": {},
   "source": [
    "## 方法三 (Data type is dictionary)"
   ]
  },
  {
   "cell_type": "code",
   "execution_count": 1,
   "metadata": {},
   "outputs": [
    {
     "name": "stdout",
     "output_type": "stream",
     "text": [
      "<class 'dict'>\n",
      "          Nation  Population\n",
      "0         Taiwan    49804575\n",
      "1  United States    55510176\n",
      "2       Thailand    71261611\n",
      "3          Korea    52673097\n",
      "\n",
      "           Nation  Population\n",
      "2       Thailand    71261611\n",
      "1  United States    55510176\n",
      "3          Korea    52673097\n",
      "0         Taiwan    49804575\n",
      "\n",
      "The city with most population\n",
      "      Nation  Population\n",
      "2  Thailand    71261611\n"
     ]
    }
   ],
   "source": [
    "import numpy as np \n",
    "import pandas as pd\n",
    "\n",
    "# Create a fuction for random population \n",
    "def random_pop():\n",
    "    pop = np.random.randint(0, 1*10**8)\n",
    "    return pop\n",
    "\n",
    "# Get the values of population \n",
    "Tai_pop = random_pop()\n",
    "United_pop = random_pop()\n",
    "Thai_pop = random_pop()\n",
    "Korea_pop = random_pop()\n",
    "\n",
    "# Only using \"dictionary\" can create \"DataFrame\"  \n",
    "data = {'Nation': ['Taiwan', 'United States', 'Thailand', 'Korea'],\n",
    "       'Population': [Tai_pop, United_pop, Thai_pop, Korea_pop]}\n",
    "print(type(data))\n",
    "df = pd.DataFrame(data)\n",
    "print(df)\n",
    "\n",
    "# Sort Pandas Dataframe by population in a decending order \n",
    "df_pop = df.sort_values(by = ['Population'], ascending = False) \n",
    "print('\\n', df_pop)\n",
    "\n",
    "print('\\n' + 'The city with most population\\n', df_pop[0:1])"
   ]
  },
  {
   "cell_type": "markdown",
   "metadata": {},
   "source": [
    "## Data Selection in DataFrame (A huge Problem)"
   ]
  },
  {
   "cell_type": "code",
   "execution_count": null,
   "metadata": {},
   "outputs": [],
   "source": [
    "print(df.loc[max(df.Population)])"
   ]
  },
  {
   "cell_type": "markdown",
   "metadata": {},
   "source": [
    "## 方法四 (Data type, at first, is list, and then turns to dict)"
   ]
  },
  {
   "cell_type": "code",
   "execution_count": 2,
   "metadata": {},
   "outputs": [
    {
     "name": "stdout",
     "output_type": "stream",
     "text": [
      "<class 'list'>\n",
      "<zip object at 0x0000020C34F4E488>\n",
      "<class 'zip'>\n",
      "[('Nation', ['Taiwan', 'United States', 'Thailand', 'Korea']), ('Population', [32105572, 46870562, 54663323, 51312131])]\n"
     ]
    },
    {
     "data": {
      "text/html": [
       "<div>\n",
       "<style scoped>\n",
       "    .dataframe tbody tr th:only-of-type {\n",
       "        vertical-align: middle;\n",
       "    }\n",
       "\n",
       "    .dataframe tbody tr th {\n",
       "        vertical-align: top;\n",
       "    }\n",
       "\n",
       "    .dataframe thead th {\n",
       "        text-align: right;\n",
       "    }\n",
       "</style>\n",
       "<table border=\"1\" class=\"dataframe\">\n",
       "  <thead>\n",
       "    <tr style=\"text-align: right;\">\n",
       "      <th></th>\n",
       "      <th>Nation</th>\n",
       "      <th>Population</th>\n",
       "    </tr>\n",
       "  </thead>\n",
       "  <tbody>\n",
       "    <tr>\n",
       "      <th>0</th>\n",
       "      <td>Taiwan</td>\n",
       "      <td>32105572</td>\n",
       "    </tr>\n",
       "    <tr>\n",
       "      <th>1</th>\n",
       "      <td>United States</td>\n",
       "      <td>46870562</td>\n",
       "    </tr>\n",
       "    <tr>\n",
       "      <th>2</th>\n",
       "      <td>Thailand</td>\n",
       "      <td>54663323</td>\n",
       "    </tr>\n",
       "    <tr>\n",
       "      <th>3</th>\n",
       "      <td>Korea</td>\n",
       "      <td>51312131</td>\n",
       "    </tr>\n",
       "  </tbody>\n",
       "</table>\n",
       "</div>"
      ],
      "text/plain": [
       "          Nation  Population\n",
       "0         Taiwan    32105572\n",
       "1  United States    46870562\n",
       "2       Thailand    54663323\n",
       "3          Korea    51312131"
      ]
     },
     "execution_count": 2,
     "metadata": {},
     "output_type": "execute_result"
    }
   ],
   "source": [
    "import numpy as np\n",
    "import pandas as pd \n",
    "\n",
    "# Create a fuction for random population \n",
    "def random_pop():\n",
    "    pop = np.random.randint(0, 1*10**8)\n",
    "    return pop\n",
    "\n",
    "Tai_pop = random_pop()\n",
    "United_pop = random_pop()\n",
    "Thai_pop = random_pop()\n",
    "Korea_pop = random_pop()\n",
    "\n",
    "# Create new lables to \n",
    "nations = ['Taiwan', 'United States', 'Thailand', 'Korea']\n",
    "pop = [Tai_pop, United_pop, Thai_pop, Korea_pop]\n",
    "print(type(nations))\n",
    "\n",
    "list_labels = ['Nation', 'Population']\n",
    "list_cols = [nations, pop]\n",
    "\n",
    "# using zip() funciton whcih is an iterator of tuples \n",
    "# where the first item in each passed iterator is paired together\n",
    "zipped = zip(list_labels, list_cols)\n",
    "print(zipped)\n",
    "print(type(zipped))\n",
    "\n",
    "# Turn the data type from 'tuple' form to 'list' \n",
    "zipped = list(zipped)\n",
    "print(zipped)\n",
    "\n",
    "# Only dict form could be transform into 'DataFrame'\n",
    "data = pd.DataFrame(dict(zipped))\n",
    "data"
   ]
  },
  {
   "cell_type": "code",
   "execution_count": null,
   "metadata": {},
   "outputs": [],
   "source": []
  },
  {
   "cell_type": "code",
   "execution_count": null,
   "metadata": {},
   "outputs": [],
   "source": []
  },
  {
   "cell_type": "code",
   "execution_count": null,
   "metadata": {},
   "outputs": [],
   "source": []
  }
 ],
 "metadata": {
  "kernelspec": {
   "display_name": "Python 3",
   "language": "python",
   "name": "python3"
  },
  "language_info": {
   "codemirror_mode": {
    "name": "ipython",
    "version": 3
   },
   "file_extension": ".py",
   "mimetype": "text/x-python",
   "name": "python",
   "nbconvert_exporter": "python",
   "pygments_lexer": "ipython3",
   "version": "3.7.6"
  }
 },
 "nbformat": 4,
 "nbformat_minor": 4
}
